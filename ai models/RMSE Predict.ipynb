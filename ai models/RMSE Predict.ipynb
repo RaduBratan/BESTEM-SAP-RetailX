{
 "cells": [
  {
   "cell_type": "code",
   "execution_count": 3,
   "id": "6206e620",
   "metadata": {},
   "outputs": [],
   "source": [
    "import pandas as pd\n",
    "import numpy as np\n",
    "import matplotlib.pyplot as plt\n",
    "import json\n",
    "\n",
    "df = pd.read_excel('sales_and_eodStocks.xlsx', sheet_name = 'Sheet1') \n",
    "\n",
    "result_detect_rmse = df.groupby('Product_ID').agg(\n",
    "    sales_count=('Product_ID', 'count'),\n",
    "    total_demand=('Sales', 'sum'),\n",
    "    first_stock=('EndOfDayStock', 'first'),\n",
    "    first_sale=('Sales', 'first')\n",
    ").reset_index()\n",
    "\n",
    "result_detect_rmse['total_forecast'] = result_detect_rmse['first_stock'] + result_detect_rmse['first_sale']\n",
    "result_detect_rmse['mean_forecast'] = result_detect_rmse['total_forecast'] / result_detect_rmse['sales_count']\n",
    "rmse_array = []\n",
    "\n",
    "for product_id in df['Product_ID'].unique():\n",
    "    rmse = 0\n",
    "    product_row = result_detect_rmse.loc[result_detect_rmse['Product_ID'] == product_id]\n",
    "    product_sales = df[df['Product_ID'] == product_id]['Sales'].tolist()\n",
    "    for demand in product_sales:\n",
    "        subt = product_row['mean_forecast'].values[0] - demand\n",
    "        subt *= subt\n",
    "        rmse += subt\n",
    "    rmse = rmse / product_row['sales_count'].values[0]\n",
    "    rmse = np.sqrt(rmse)\n",
    "    rmse_array.append(rmse)\n",
    "    \n",
    "result_detect_rmse['rmse_value'] = rmse_array\n",
    "result_detect_rmse['situation'] = pd.cut(result_detect_rmse['rmse_value'], bins=[0, 3, float('inf')],\n",
    "                                labels=['good amount', 'wrong quantity'], right=False)\n",
    "\n",
    "result_detect_rmse = result_detect_rmse[result_detect_rmse['situation'] == \"good amount\"]\n",
    "result_detect_rmse_sorted = result_detect_rmse.sort_values(by='total_demand', ascending=False)\n",
    "result_detect_rmse_sorted.to_json('predict_with_rmse.json', orient='records', lines=True)"
   ]
  },
  {
   "cell_type": "code",
   "execution_count": null,
   "id": "d4002f98",
   "metadata": {},
   "outputs": [],
   "source": []
  }
 ],
 "metadata": {
  "kernelspec": {
   "display_name": "Python 3 (ipykernel)",
   "language": "python",
   "name": "python3"
  },
  "language_info": {
   "codemirror_mode": {
    "name": "ipython",
    "version": 3
   },
   "file_extension": ".py",
   "mimetype": "text/x-python",
   "name": "python",
   "nbconvert_exporter": "python",
   "pygments_lexer": "ipython3",
   "version": "3.9.12"
  }
 },
 "nbformat": 4,
 "nbformat_minor": 5
}
