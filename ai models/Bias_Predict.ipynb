{
 "cells": [
  {
   "cell_type": "code",
   "execution_count": 92,
   "id": "a3d26ab0",
   "metadata": {},
   "outputs": [],
   "source": [
    "import pandas as pd\n",
    "import numpy as np\n",
    "import matplotlib.pyplot as plt\n",
    "import json\n",
    "\n",
    "df = pd.read_excel('sales_and_eodStocks.xlsx', sheet_name = 'Sheet1') \n",
    "\n",
    "df['Product_ID'] = df['Product_ID'].astype(str)\n",
    "\n",
    "result_detect_bias = df.groupby('Product_ID').agg(\n",
    "    sales_count=('Product_ID', 'count'),\n",
    "    total_demand=('Sales', 'sum'),\n",
    "    first_stock=('EndOfDayStock', 'first'),\n",
    "    first_sale=('Sales', 'first')\n",
    ").reset_index()\n",
    "result_detect_bias['total_forecast'] = result_detect_bias['first_stock'] + result_detect_bias['first_sale']\n",
    "result_detect_bias['bias'] = (result_detect_bias['total_forecast'] - result_detect_bias['total_demand']) / result_detect_bias['sales_count']\n",
    "\n",
    "#formula bias fortata: [(forecast[0] - demand[0]) + (forecast[1] - demand[1]) + ... (forecast[n-1] - demand[n-1])] / n\n",
    "#[sum(forecast) - sum(demand)] / n, deci calculam bias-ul si RMSE pentru cei 2 ani\n",
    "\n",
    "result_detect_bias['situation'] = pd.cut(result_detect_bias['bias'], bins=[float('-inf'), 0, 3, float('inf')],\n",
    "                                labels=['out-of-stock', 'good amount', 'overstock'], right=False)\n",
    "\n",
    "result_detect_bias = result_detect_bias[result_detect_bias['situation'] == \"good amount\"]\n",
    "result_detect_bias_sorted = result_detect_bias.sort_values(by='total_demand', ascending=False)\n",
    "result_detect_bias_sorted.to_json('predict_with_bias.json', orient='records', lines=True)\n"
   ]
  },
  {
   "cell_type": "code",
   "execution_count": null,
   "id": "6d125d6a",
   "metadata": {},
   "outputs": [],
   "source": []
  }
 ],
 "metadata": {
  "kernelspec": {
   "display_name": "Python 3 (ipykernel)",
   "language": "python",
   "name": "python3"
  },
  "language_info": {
   "codemirror_mode": {
    "name": "ipython",
    "version": 3
   },
   "file_extension": ".py",
   "mimetype": "text/x-python",
   "name": "python",
   "nbconvert_exporter": "python",
   "pygments_lexer": "ipython3",
   "version": "3.9.12"
  }
 },
 "nbformat": 4,
 "nbformat_minor": 5
}
